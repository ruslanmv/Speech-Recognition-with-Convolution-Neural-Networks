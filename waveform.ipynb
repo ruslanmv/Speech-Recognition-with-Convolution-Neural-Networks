{
 "cells": [
  {
   "cell_type": "code",
   "execution_count": 2,
   "id": "6f60b914",
   "metadata": {},
   "outputs": [],
   "source": [
    "import os\n",
    "import sys\n",
    "import imageio\n",
    "import numpy as np\n",
    "import librosa as lr\n",
    "import matplotlib.pyplot as plt\n",
    "from tqdm import tqdm"
   ]
  },
  {
   "cell_type": "code",
   "execution_count": 3,
   "id": "9408e949",
   "metadata": {},
   "outputs": [],
   "source": [
    "def plot_wav(y, sr, start=0, stop=None, bit_depth=5, upsample=2, downsample=2):\n",
    "    \n",
    "    fig, ax = plt.subplots(1, 1, figsize=[13, 5])\n",
    "    t = lr.samples_to_time(np.arange(len(y)), sr=sr)\n",
    "    t, y = t[start:stop], y[start:stop]\n",
    "    \n",
    "    # show unquantized waveform\n",
    "    new_sr = sr * upsample\n",
    "    y_cont = lr.resample(y, sr, new_sr)\n",
    "    t_cont = lr.samples_to_time(np.arange(len(y_cont)), sr=new_sr) + np.min(t)\n",
    "    ax.plot(t_cont, y_cont, '-', color='k', linewidth=0.7)\n",
    "    \n",
    "    # plot quantized waveform\n",
    "    new_sr = sr / downsample\n",
    "    y_ = lr.resample(y, sr, new_sr)\n",
    "    t_ = t[::downsample]\n",
    "    t_ = np.repeat(t_, 2)[1:]\n",
    "    y_ = np.repeat(y_, 2)[:-1]\n",
    "    ax.plot(t_, y_, '-', color='k')\n",
    "    \n",
    "    # add \"scale bar\"\n",
    "    bar_center = np.mean(ax.get_xlim())\n",
    "    bar_len = 10**np.floor(np.log10(lr.samples_to_time(stop-start, sr=sr)))\n",
    "    bar_start = bar_center - bar_len/2\n",
    "    bar_stop = bar_center + bar_len/2\n",
    "    ax.plot([bar_start, bar_stop], [-0.8, -0.8], 'k', linewidth=1.5)    \n",
    "    ax.text(bar_center, -0.7, format_small_time_interval(bar_len), size=14, horizontalalignment='center')\n",
    "    \n",
    "    # add grid\n",
    "    if stop - start < 100:\n",
    "        grid_color = [(stop - start) / 100] * 3\n",
    "        \n",
    "        grid_amplitude_step = 1/(2**(bit_depth-1))\n",
    "        grid_amplitudes = np.arange(-1, 1+grid_amplitude_step, grid_amplitude_step)\n",
    "        plt.hlines(grid_amplitudes, t[0], t[-1], color=grid_color, linewidth=0.5, linestyle='--')\n",
    "\n",
    "        grid_samples = np.arange(start, stop, downsample)\n",
    "        grid_times = lr.samples_to_time(grid_samples, sr=sr)\n",
    "        plt.vlines(grid_times, -1, 1, color=grid_color, linewidth=0.5, linestyle='--')\n",
    "    \n",
    "    # turn off axes\n",
    "    ax.set_ylim([-1.05, 1.05])\n",
    "    ax.axis('off')\n",
    "\n",
    "    return fig"
   ]
  },
  {
   "cell_type": "code",
   "execution_count": 4,
   "id": "9b5af8ee",
   "metadata": {},
   "outputs": [],
   "source": [
    "def format_small_time_interval(t):\n",
    "\n",
    "    if t >= 1.0:\n",
    "        return f'{t:.3g} s'\n",
    "    elif t >= 1e-3:\n",
    "        return f'{t * 1e3:.3g} ms'\n",
    "    else:\n",
    "        return f'{t * 1e6:.3g} μs'\n",
    "\n",
    "\n",
    "def half_cosine_window(n, min_=0.0, max_=1.0):\n",
    "    \n",
    "    win = np.cos(np.arange(0., np.pi, np.pi / n)) * 0.5 + 0.5\n",
    "    win = (max_ - min_) * win + min_\n",
    "\n",
    "    return win"
   ]
  },
  {
   "cell_type": "code",
   "execution_count": 7,
   "id": "c1faa5b7",
   "metadata": {},
   "outputs": [],
   "source": [
    "# Import the os module\n",
    "import os\n",
    "# Get the current working directory\n",
    "cwd = os.getcwd()"
   ]
  },
  {
   "cell_type": "code",
   "execution_count": 20,
   "id": "7b80f29b",
   "metadata": {},
   "outputs": [],
   "source": [
    "path = cwd+'\\Wav_868kb.wav' # path to audio file, only tried 44100Hz\n",
    "out_dir = cwd  # must exist, will be spammed with png's"
   ]
  },
  {
   "cell_type": "code",
   "execution_count": 21,
   "id": "753c2606",
   "metadata": {},
   "outputs": [],
   "source": [
    "# parameters\n",
    "max_amplitude = 0.65\n",
    "min_scale = 0.001 * 44100  # in samples\n",
    "max_scale = 1 * 44100\n",
    "center = 44100 * 2   # center of segment in samples\n",
    "zoom_frames = 100\n",
    "frame_rate = 12\n",
    "pause_frames = 12"
   ]
  },
  {
   "cell_type": "code",
   "execution_count": 22,
   "id": "8f71e232",
   "metadata": {},
   "outputs": [],
   "source": [
    "# load audio\n",
    "y, sr = lr.load(path, sr=None)\n",
    "y = max_amplitude * y / np.max(np.abs(y))"
   ]
  },
  {
   "cell_type": "code",
   "execution_count": 23,
   "id": "9c3dfafd",
   "metadata": {},
   "outputs": [
    {
     "name": "stderr",
     "output_type": "stream",
     "text": [
      "  0%|                                                                                                                   | 0/100 [00:00<?, ?it/s]C:\\Users\\rusla\\.conda\\envs\\keras\\lib\\site-packages\\ipykernel_launcher.py:9: FutureWarning: Pass orig_sr=44100, target_sr=88200 as keyword args. From version 0.10 passing these as positional arguments will result in an error\n",
      "  if __name__ == \"__main__\":\n",
      "C:\\Users\\rusla\\.conda\\envs\\keras\\lib\\site-packages\\ipykernel_launcher.py:15: FutureWarning: Pass orig_sr=44100, target_sr=22050.0 as keyword args. From version 0.10 passing these as positional arguments will result in an error\n",
      "  from ipykernel import kernelapp as app\n",
      "100%|█████████████████████████████████████████████████████████████████████████████████████████████████████████| 100/100 [00:13<00:00,  7.20it/s]\n"
     ]
    }
   ],
   "source": [
    "# draw and save figures\n",
    "filenames = []\n",
    "scales = half_cosine_window(zoom_frames, min_=np.log10(min_scale), max_=np.log10(max_scale))\n",
    "for i, scale in enumerate(tqdm(scales)):\n",
    "    start = int(center - 10**scale)\n",
    "    stop = int(center + 10**scale)\n",
    "    fig = plot_wav(y, sr, start=start, stop=stop, upsample=2, downsample=2);\n",
    "    filename = os.path.join(out_dir, f'wave_{i + 1}.png')\n",
    "    fig.savefig(filename, pad_inches=0.0, bbox_inches='tight')\n",
    "    filenames.append(filename)\n",
    "    plt.close(fig)\n",
    "\n",
    "# add pauses, make symmetric\n",
    "filenames = [filenames[0]] * (pause_frames // 2) + filenames + [filenames[-1]] * (pause_frames // 2)\n",
    "filenames = filenames + filenames[::-1]\n",
    "\n",
    "# write gif\n",
    "with imageio.get_writer(os.path.join(out_dir, 'wave.gif'), mode='I', duration=1./frame_rate) as writer:\n",
    "    for filename in filenames:\n",
    "        image = imageio.imread(filename)\n",
    "        writer.append_data(image)"
   ]
  },
  {
   "cell_type": "code",
   "execution_count": null,
   "id": "5afe53f0",
   "metadata": {},
   "outputs": [],
   "source": []
  }
 ],
 "metadata": {
  "kernelspec": {
   "display_name": "Python (Keras)",
   "language": "python",
   "name": "keras"
  },
  "language_info": {
   "codemirror_mode": {
    "name": "ipython",
    "version": 3
   },
   "file_extension": ".py",
   "mimetype": "text/x-python",
   "name": "python",
   "nbconvert_exporter": "python",
   "pygments_lexer": "ipython3",
   "version": "3.7.0"
  }
 },
 "nbformat": 4,
 "nbformat_minor": 5
}
